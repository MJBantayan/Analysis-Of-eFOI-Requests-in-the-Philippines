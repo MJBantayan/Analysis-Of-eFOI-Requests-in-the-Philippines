{
 "cells": [
  {
   "cell_type": "code",
   "execution_count": 2,
   "id": "de6fbbb0-125f-428c-be4e-0f45a16d6676",
   "metadata": {},
   "outputs": [
    {
     "name": "stdout",
     "output_type": "stream",
     "text": [
      "Python 3.12.4\n"
     ]
    }
   ],
   "source": [
    "!python --version"
   ]
  },
  {
   "cell_type": "code",
   "execution_count": 3,
   "id": "b532c0dc-fa71-4739-b715-67205cdef732",
   "metadata": {},
   "outputs": [
    {
     "name": "stdout",
     "output_type": "stream",
     "text": [
      "\n",
      " Laptop Specs: \n",
      " x86_64 \n",
      " Linux-6.8.0-52-generic-x86_64-with-glibc2.35 \n",
      " x86_64\n"
     ]
    }
   ],
   "source": [
    "import platform\n",
    "\n",
    "print('\\n', \"Laptop Specs:\", '\\n', \n",
    "      platform.machine(), '\\n', \n",
    "      platform.platform(), '\\n', \n",
    "      platform.processor())"
   ]
  },
  {
   "cell_type": "markdown",
   "id": "aff3b4ae-3598-4330-9402-d419e59517c1",
   "metadata": {},
   "source": [
    "# **Setting up the Environment**"
   ]
  },
  {
   "cell_type": "markdown",
   "id": "46659728-97c0-44ee-a403-244d5dc3ef0c",
   "metadata": {},
   "source": [
    "This notebook will contain all installations and setup so reviewers can replicate my environment easily."
   ]
  },
  {
   "cell_type": "markdown",
   "id": "5b5a55ff-9ec2-49d3-ad03-2f0b1b388f73",
   "metadata": {},
   "source": [
    "#### Run Jupyter on Anaconda\n",
    "Run the following commands on the linux command line interface to open anaconda and begin the project.  Alternatively you may use Google Colab, AWS, or Kaggle Notebooks. Due to limited hardware resources I will only be using conda for planning, outlining and preparation and any real heavy lifting will be done on the cloud."
   ]
  },
  {
   "cell_type": "code",
   "execution_count": null,
   "id": "a758470a-a8a9-4720-a953-2b9bda361623",
   "metadata": {},
   "outputs": [],
   "source": [
    "%%bash\n",
    "\n",
    "conda init #this will initiate anaconda\n",
    "conda activate #this will activate anaconda and you will see (base) before your name on the command line interface\n",
    "anaconda-navigator # this will open the graphical user interface of anaconda and from there click Jupyter Notebook"
   ]
  },
  {
   "cell_type": "markdown",
   "id": "a3c27d9d-0682-4912-8dc8-6558555f97f4",
   "metadata": {},
   "source": [
    "#### Verify all Packages are installed and updated\n",
    "\n",
    "So far these are the packages that I have identified necessary for the project. In the process of doing the research I might need to use machine learning algorithms, those packages will be installed and run on separate Colab or Kaggle Notebooks when they are necessary. To understand how to use these packages plaese read the documentation."
   ]
  },
  {
   "cell_type": "code",
   "execution_count": 8,
   "id": "7f71c056-a40d-4ced-8453-193bbf1ed348",
   "metadata": {},
   "outputs": [
    {
     "name": "stdout",
     "output_type": "stream",
     "text": [
      "pandas version: 2.2.2\n",
      "numpy version: 1.26.4\n",
      "sqlite3 version: 3.45.3\n",
      "psycopg2 version: 2.9.10\n",
      "sqlalchemy version: 2.0.30\n",
      "requests version: 2.32.2\n",
      "beautifulsoup4 is not installed.\n",
      "statsmodels version: 0.14.2\n",
      "matplotlib version: 3.8.4\n",
      "seaborn version: 0.13.2\n"
     ]
    }
   ],
   "source": [
    "import importlib\n",
    "import pkg_resources\n",
    "\n",
    "packages = [\"pandas\", \"numpy\", \"sqlite3\", \"psycopg2\", \"sqlalchemy\",\"requests\", \n",
    "            \"beautifulsoup4\", \"statsmodels\", \"matplotlib\", \"seaborn\"]\n",
    "\n",
    "for package in packages:\n",
    "    try:\n",
    "        if package == \"sqlite3\":\n",
    "            import sqlite3\n",
    "            print(f\"{package} version: {sqlite3.sqlite_version}\")\n",
    "        else:\n",
    "            module = importlib.import_module(package)\n",
    "            version = pkg_resources.get_distribution(package).version\n",
    "            print(f\"{package} version: {version}\")\n",
    "    except ImportError:\n",
    "        print(f\"{package} is not installed.\")\n"
   ]
  },
  {
   "cell_type": "code",
   "execution_count": 9,
   "id": "bc32a588-0a33-473b-b839-31095c044734",
   "metadata": {},
   "outputs": [
    {
     "name": "stdout",
     "output_type": "stream",
     "text": [
      "Requirement already satisfied: psycopg2 in ./anaconda3/lib/python3.12/site-packages (2.9.10)\n",
      "Requirement already satisfied: beautifulsoup4 in ./anaconda3/lib/python3.12/site-packages (4.12.3)\n",
      "Requirement already satisfied: lxml in ./anaconda3/lib/python3.12/site-packages (5.2.1)\n",
      "Requirement already satisfied: nltk in ./anaconda3/lib/python3.12/site-packages (3.8.1)\n",
      "Requirement already satisfied: scikit-learn in ./anaconda3/lib/python3.12/site-packages (1.4.2)\n",
      "Requirement already satisfied: plotly in ./anaconda3/lib/python3.12/site-packages (5.22.0)\n",
      "Requirement already satisfied: soupsieve>1.2 in ./anaconda3/lib/python3.12/site-packages (from beautifulsoup4) (2.5)\n",
      "Requirement already satisfied: click in ./anaconda3/lib/python3.12/site-packages (from nltk) (8.1.7)\n",
      "Requirement already satisfied: joblib in ./anaconda3/lib/python3.12/site-packages (from nltk) (1.4.2)\n",
      "Requirement already satisfied: regex>=2021.8.3 in ./anaconda3/lib/python3.12/site-packages (from nltk) (2023.10.3)\n",
      "Requirement already satisfied: tqdm in ./anaconda3/lib/python3.12/site-packages (from nltk) (4.66.4)\n",
      "Requirement already satisfied: numpy>=1.19.5 in ./anaconda3/lib/python3.12/site-packages (from scikit-learn) (1.26.4)\n",
      "Requirement already satisfied: scipy>=1.6.0 in ./anaconda3/lib/python3.12/site-packages (from scikit-learn) (1.13.1)\n",
      "Requirement already satisfied: threadpoolctl>=2.0.0 in ./anaconda3/lib/python3.12/site-packages (from scikit-learn) (2.2.0)\n",
      "Requirement already satisfied: tenacity>=6.2.0 in ./anaconda3/lib/python3.12/site-packages (from plotly) (8.2.2)\n",
      "Requirement already satisfied: packaging in ./anaconda3/lib/python3.12/site-packages (from plotly) (23.2)\n"
     ]
    }
   ],
   "source": [
    "!pip install psycopg2 beautifulsoup4 lxml nltk scikit-learn plotly "
   ]
  },
  {
   "cell_type": "markdown",
   "id": "c1a72554-1189-42e3-8eda-b4f592ac8fec",
   "metadata": {},
   "source": [
    "\n",
    "\n",
    "## **Installing PostgreSQL on Ubuntu**\n",
    "Run the following command in your **Ubuntu terminal** before proceeding with the notebook:\n",
    "\n",
    "```bash\n",
    "sudo apt update\n",
    "sudo apt install -y postgresql postgresql-contrib\n",
    "sudo systemctl start postgresql\n",
    "sudo systemctl enable postgresql\n",
    "```\n",
    "\n",
    "To create a database and user:\n",
    "\n",
    "```bash\n",
    "sudo -u postgres createuser --interactive\n",
    "sudo -u postgres createdb mydatabase\n",
    "```\n",
    "\n",
    "To enter PostgreSQL shell:\n",
    "\n",
    "```bash\n",
    "sudo -u postgres psql\n",
    "```\n"
   ]
  }
 ],
 "metadata": {
  "kernelspec": {
   "display_name": "Python 3 (ipykernel)",
   "language": "python",
   "name": "python3"
  },
  "language_info": {
   "codemirror_mode": {
    "name": "ipython",
    "version": 3
   },
   "file_extension": ".py",
   "mimetype": "text/x-python",
   "name": "python",
   "nbconvert_exporter": "python",
   "pygments_lexer": "ipython3",
   "version": "3.12.4"
  }
 },
 "nbformat": 4,
 "nbformat_minor": 5
}
